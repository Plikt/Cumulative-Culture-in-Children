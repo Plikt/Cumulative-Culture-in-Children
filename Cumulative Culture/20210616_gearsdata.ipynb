{
 "cells": [
  {
   "cell_type": "code",
   "execution_count": 8,
   "metadata": {},
   "outputs": [],
   "source": [
    "import numpy as np\n",
    "import pandas as pd\n",
    "import itertools\n",
    "import xlwt\n",
    "from xlwt import Workbook\n",
    "import math\n",
    "from openpyxl import load_workbook\n",
    "\n",
    "#name the workbook \n",
    "wb = Workbook()\n",
    "\n",
    "#Add a sheet and name it. Allow cell overwrite\n",
    "permwb = wb.add_sheet('gearpermutation', cell_overwrite_ok=True)\n",
    "\n",
    "#initialize desired names and attributes. \n",
    "gearnames = ['Gear 1', 'Gear 2', 'Gear 3', 'Gear 4', 'Gear 5']\n",
    "gearteeth = [5,3,7,4,8]\n",
    "\n",
    "\n"
   ]
  },
  {
   "cell_type": "code",
   "execution_count": 3,
   "metadata": {},
   "outputs": [],
   "source": [
    "def all_perms(elements):\n",
    "    if len(elements) <=1:\n",
    "        yield elements\n",
    "    else:\n",
    "        for perm in all_perms(elements[1:]):\n",
    "            for i in range(len(elements)):\n",
    "                # nb elements[0:1] works in both string and list contexts\n",
    "                yield perm[:i] + elements[0:1] + perm[i:]\n",
    "                \n",
    "output = list(itertools.permutations([5, 3, 7, 4, 8]))\n",
    "output.insert(0, gearnames[0:len(gearnames)])\n",
    "output\n",
    "\n",
    "for i in range(len(output)):\n",
    "    for n in range(len(gearnames)):\n",
    "        permwb.write(i, n, output[i][n])\n",
    "        \n",
    "wb.save('20210613_gearpermutation.xls')\n"
   ]
  },
  {
   "cell_type": "code",
   "execution_count": null,
   "metadata": {},
   "outputs": [],
   "source": []
  }
 ],
 "metadata": {
  "kernelspec": {
   "display_name": "Python 3",
   "language": "python",
   "name": "python3"
  },
  "language_info": {
   "codemirror_mode": {
    "name": "ipython",
    "version": 3
   },
   "file_extension": ".py",
   "mimetype": "text/x-python",
   "name": "python",
   "nbconvert_exporter": "python",
   "pygments_lexer": "ipython3",
   "version": "3.8.3"
  }
 },
 "nbformat": 4,
 "nbformat_minor": 4
}
